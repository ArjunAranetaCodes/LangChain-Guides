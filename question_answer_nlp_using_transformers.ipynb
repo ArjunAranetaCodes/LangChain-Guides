{
  "nbformat": 4,
  "nbformat_minor": 0,
  "metadata": {
    "colab": {
      "provenance": []
    },
    "kernelspec": {
      "name": "python3",
      "display_name": "Python 3"
    },
    "language_info": {
      "name": "python"
    }
  },
  "cells": [
    {
      "cell_type": "markdown",
      "source": [
        "**Understanding Question Answering in Natural Language Processing (NLP) with Transformers Library**"
      ],
      "metadata": {
        "id": "iHVoDSd9B4zO"
      }
    },
    {
      "cell_type": "markdown",
      "source": [
        "In this tutorial, I will explain how to use the Hugging Face's Transformers library to perform question answering tasks in natural language processing (NLP). We will walk through each line of code and explore how it works together to extract answers from text data. Let's get started!\n",
        "\n",
        "First, we need to install the transformers package using pip:"
      ],
      "metadata": {
        "id": "9-iFtmO7CUAS"
      }
    },
    {
      "cell_type": "code",
      "source": [
        "!pip install transformers"
      ],
      "metadata": {
        "id": "aLgCDllFAsJz"
      },
      "execution_count": null,
      "outputs": []
    },
    {
      "cell_type": "markdown",
      "source": [
        "This command installs the latest version of the Transformers library, which includes pre-trained models and tools for various NLP tasks like question answering, sentiment analysis, and more.\n",
        "\n",
        "Next, we import necessary modules:"
      ],
      "metadata": {
        "id": "ktZ5htdqCY4I"
      }
    },
    {
      "cell_type": "code",
      "execution_count": 5,
      "metadata": {
        "id": "duaYm_H5Aphz"
      },
      "outputs": [],
      "source": [
        "from transformers import AutoModelForQuestionAnswering, AutoTokenizer, pipeline\n",
        "\n"
      ]
    },
    {
      "cell_type": "markdown",
      "source": [
        "**AutoModelForQuestionAnswering**: A class representing the fine-tuned question-answering model.\n",
        "\n",
        "**AutoTokenizer**: A class responsible for encoding input text into tokens understandable by our model.\n",
        "\n",
        "**pipeline**: A function used to create an end-to-end NLP application without worrying about low-level details. It simplifies the process of creating custom NLP applications.\n",
        "\n",
        "Now, select a suitable pre-trained model for your task:"
      ],
      "metadata": {
        "id": "JgorYXn3CcJB"
      }
    },
    {
      "cell_type": "code",
      "source": [
        "model_name = \"deepset/roberta-base-squad2\""
      ],
      "metadata": {
        "id": "ruIP8F_uC_k4"
      },
      "execution_count": 6,
      "outputs": []
    },
    {
      "cell_type": "markdown",
      "source": [
        "Here, we choose the deepset/roberta-base-squad2 model, which has been trained on SQuAD v2 dataset for question answering. You can find other available models here.\n",
        "\n",
        "Create a QA pipeline:"
      ],
      "metadata": {
        "id": "XSyF5uaVC814"
      }
    },
    {
      "cell_type": "code",
      "source": [
        "nlp = pipeline('question-answering', model=model_name, tokenizer=model_name)"
      ],
      "metadata": {
        "id": "bdq67YnDDC3-"
      },
      "execution_count": 7,
      "outputs": []
    },
    {
      "cell_type": "markdown",
      "source": [
        "We utilize the pipeline() method provided by the transformers library to quickly build a question-answering system. The model parameter specifies the name of the pre-trained model you want to use, while tokenizer represents the corresponding tokenizer for the selected model.\n",
        "\n",
        "Prepare the context and questions:"
      ],
      "metadata": {
        "id": "PFK-yx-EDKNo"
      }
    },
    {
      "cell_type": "code",
      "source": [
        "QA_input = {\n",
        "    'question': 'Why is model conversion important?',\n",
        "    'context': 'The option to convert models between FARM and transformers gives freedom to the user and let people easily switch between frameworks.'\n",
        "}"
      ],
      "metadata": {
        "id": "RSMbskI4DE2R"
      },
      "execution_count": 8,
      "outputs": []
    },
    {
      "cell_type": "markdown",
      "source": [
        "Here, the QA_input dictionary contains two keys - question and context. These represent the information where users seek answers within the given content.\n",
        "\n",
        "Finally, generate the answer:"
      ],
      "metadata": {
        "id": "CSMTBCszDPN-"
      }
    },
    {
      "cell_type": "code",
      "source": [
        "res = nlp(QA_input)"
      ],
      "metadata": {
        "id": "tbmQjUa8Arei"
      },
      "execution_count": 9,
      "outputs": []
    },
    {
      "cell_type": "code",
      "source": [
        "res"
      ],
      "metadata": {
        "colab": {
          "base_uri": "https://localhost:8080/"
        },
        "id": "zlr3lviQBDOt",
        "outputId": "c8a43f8f-87b6-4d96-81ec-0446ece10850"
      },
      "execution_count": 10,
      "outputs": [
        {
          "output_type": "execute_result",
          "data": {
            "text/plain": [
              "{'score': 0.21171429753303528,\n",
              " 'start': 59,\n",
              " 'end': 84,\n",
              " 'answer': 'gives freedom to the user'}"
            ]
          },
          "metadata": {},
          "execution_count": 10
        }
      ]
    },
    {
      "cell_type": "markdown",
      "source": [
        "Invoke the created NLP pipeline to extract the answer based on the user's query and display it. That's all there is to performing question answering tasks using the Transformers library.\n",
        "\n",
        "Happy learning! Feel free to ask any questions or share feedback in the comments section."
      ],
      "metadata": {
        "id": "ESg8J2yODTLo"
      }
    }
  ]
}