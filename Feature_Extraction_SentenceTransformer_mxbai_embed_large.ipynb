{
  "nbformat": 4,
  "nbformat_minor": 0,
  "metadata": {
    "colab": {
      "provenance": []
    },
    "kernelspec": {
      "name": "python3",
      "display_name": "Python 3"
    },
    "language_info": {
      "name": "python"
    }
  },
  "cells": [
    {
      "cell_type": "code",
      "execution_count": null,
      "metadata": {
        "id": "o-91gTReRsy7"
      },
      "outputs": [],
      "source": [
        "!pip install sentence-transformers"
      ]
    },
    {
      "cell_type": "code",
      "source": [
        "from sentence_transformers import SentenceTransformer\n",
        "from sentence_transformers.util import cos_sim"
      ],
      "metadata": {
        "id": "VqUOy4buRytb"
      },
      "execution_count": null,
      "outputs": []
    },
    {
      "cell_type": "code",
      "source": [
        "model = SentenceTransformer(\"mixedbread-ai/mxbai-embed-large-v1\")"
      ],
      "metadata": {
        "id": "MaaZPBWY9QaC"
      },
      "execution_count": null,
      "outputs": []
    },
    {
      "cell_type": "code",
      "source": [
        "query = 'Represent this sentence for searching relevant passages: A man is eating a piece of bread'"
      ],
      "metadata": {
        "id": "Fc7c8GAV9TdB"
      },
      "execution_count": null,
      "outputs": []
    },
    {
      "cell_type": "code",
      "source": [
        "docs = [\n",
        "    query,\n",
        "    \"A man is eating food.\",\n",
        "    \"A man is eating pasta.\",\n",
        "    \"The girl is carrying a baby.\",\n",
        "    \"A man is riding a horse.\",\n",
        "]"
      ],
      "metadata": {
        "id": "xImHeDmH9Uht"
      },
      "execution_count": null,
      "outputs": []
    },
    {
      "cell_type": "code",
      "source": [
        "embeddings = model.encode(docs)"
      ],
      "metadata": {
        "id": "Ng_c3NwZ9V6i"
      },
      "execution_count": null,
      "outputs": []
    },
    {
      "cell_type": "code",
      "source": [
        "similarities = cos_sim(embeddings[0], embeddings[1:])"
      ],
      "metadata": {
        "id": "rJYZnAW19W1e"
      },
      "execution_count": null,
      "outputs": []
    },
    {
      "cell_type": "code",
      "source": [
        "print('similarities:', similarities)"
      ],
      "metadata": {
        "colab": {
          "base_uri": "https://localhost:8080/"
        },
        "id": "n_5Af8YiRzyi",
        "outputId": "c538fb5a-6ca9-4306-b29e-9d4636b5f22d"
      },
      "execution_count": null,
      "outputs": [
        {
          "output_type": "stream",
          "name": "stdout",
          "text": [
            "similarities: tensor([[0.7920, 0.6369, 0.1651, 0.3621]])\n"
          ]
        }
      ]
    }
  ]
}