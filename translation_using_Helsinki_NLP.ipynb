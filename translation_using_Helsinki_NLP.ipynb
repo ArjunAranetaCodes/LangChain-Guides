{
  "nbformat": 4,
  "nbformat_minor": 0,
  "metadata": {
    "colab": {
      "provenance": [],
      "gpuType": "T4"
    },
    "kernelspec": {
      "name": "python3",
      "display_name": "Python 3"
    },
    "language_info": {
      "name": "python"
    },
    "accelerator": "GPU"
  },
  "cells": [
    {
      "cell_type": "markdown",
      "source": [
        "Natural Language Processing (NLP) has made significant progress in recent years due to advances in deep learning techniques such as Transformer models. One popular application of NLP is machine translation, where a model can translate text from one language to another. In this tutorial, we will learn how to use Hugging Face's Transformers library to perform neural machine translation between English and French using pre-trained models. We will also use SacreMoses for text preprocessing."
      ],
      "metadata": {
        "id": "fpJUO988uWf-"
      }
    },
    {
      "cell_type": "code",
      "source": [
        "!pip install transformers accelerate"
      ],
      "metadata": {
        "id": "9BKotadMztEG"
      },
      "execution_count": null,
      "outputs": []
    },
    {
      "cell_type": "markdown",
      "source": [
        "!pip install transformers accelerate: This command installs the Transformers and Accelerate packages. The Transformers package contains implementations of various state-of-the-art NLP models, while Accelerate provides tools for distributed training."
      ],
      "metadata": {
        "id": "b4rmK07iuaiA"
      }
    },
    {
      "cell_type": "code",
      "source": [
        "!pip install sacremoses"
      ],
      "metadata": {
        "id": "pKozfRe3KTQi"
      },
      "execution_count": null,
      "outputs": []
    },
    {
      "cell_type": "markdown",
      "source": [
        "!pip install sacremoses: This command installs the SacreMoses package, which provides utilities for Moses-style text preprocessing for NLP tasks."
      ],
      "metadata": {
        "id": "az9l0cIGudMF"
      }
    },
    {
      "cell_type": "code",
      "source": [
        "from transformers import AutoTokenizer, MarianMTModel"
      ],
      "metadata": {
        "id": "f4uMVe-WKweM"
      },
      "execution_count": null,
      "outputs": []
    },
    {
      "cell_type": "markdown",
      "source": [
        "from transformers import AutoTokenizer, MarianMTModel: This imports the necessary classes from the Transformers package - AutoTokenizer for creating a tokenizer object that converts text into numerical tokens, and MarianMTModel for loading a pre-trained machine translation model."
      ],
      "metadata": {
        "id": "5H6QSCtuue-P"
      }
    },
    {
      "cell_type": "code",
      "source": [
        "src = \"en\"  # source language\n",
        "trg = \"fr\"  # target language"
      ],
      "metadata": {
        "id": "wvtJWLtmuMK7"
      },
      "execution_count": null,
      "outputs": []
    },
    {
      "cell_type": "markdown",
      "source": [
        "src = \"en\" and trg = \"fr\": These variables define the source and target languages for our machine translation task. Here, we are translating from English (\"en\") to French (\"fr\")."
      ],
      "metadata": {
        "id": "4wyxyiLkugfj"
      }
    },
    {
      "cell_type": "code",
      "source": [
        "model_name = f\"Helsinki-NLP/opus-mt-{src}-{trg}\""
      ],
      "metadata": {
        "id": "WjGLXL1YuNgb"
      },
      "execution_count": null,
      "outputs": []
    },
    {
      "cell_type": "markdown",
      "source": [
        "model_name = f\"Helsinki-NLP/opus-mt-{src}-{trg}\": This variable defines the name of the pre-trained machine translation model we will be using. In this case, we are using the Helsinki-NLP implementation of the OPUS-MT model trained on data from the OPUS project."
      ],
      "metadata": {
        "id": "pdwyyLmOuiQL"
      }
    },
    {
      "cell_type": "code",
      "source": [
        "model = MarianMTModel.from_pretrained(model_name)\n",
        "tokenizer = AutoTokenizer.from_pretrained(model_name)"
      ],
      "metadata": {
        "id": "SJ9r-Gg_uO9F"
      },
      "execution_count": null,
      "outputs": []
    },
    {
      "cell_type": "markdown",
      "source": [
        "model = MarianMTModel.from_pretrained(model_name) and tokenizer = AutoTokenizer.from_pretrained(model_name): These lines load the pre-trained machine translation model and its corresponding tokenizer from their saved locations. The tokenizer is used to convert input text into numerical tokens that the model can understand."
      ],
      "metadata": {
        "id": "l5hD42iyujyV"
      }
    },
    {
      "cell_type": "code",
      "source": [
        "sample_text = \"Vegetables share resources with nitrogen-fixing bacteria\""
      ],
      "metadata": {
        "id": "qhtnAnpIuQQi"
      },
      "execution_count": null,
      "outputs": []
    },
    {
      "cell_type": "markdown",
      "source": [
        "sample_text = \"Vegetables share resources with nitrogen-fixing bacteria\": This line defines the input text we want to translate."
      ],
      "metadata": {
        "id": "8e-bRsQuulSC"
      }
    },
    {
      "cell_type": "code",
      "source": [
        "batch = tokenizer([sample_text], return_tensors=\"pt\")"
      ],
      "metadata": {
        "id": "13eEF1_6uRVQ"
      },
      "execution_count": null,
      "outputs": []
    },
    {
      "cell_type": "markdown",
      "source": [
        "batch = tokenizer([sample_text], return_tensors=\"pt\"): This line encodes the input text into numerical tokens using the loaded tokenizer. It returns a PyTorch tensor containing these tokens."
      ],
      "metadata": {
        "id": "iDDB8n0UumrV"
      }
    },
    {
      "cell_type": "code",
      "source": [
        "generated_ids = model.generate(**batch)"
      ],
      "metadata": {
        "id": "uBJ2MZjRuSOs"
      },
      "execution_count": null,
      "outputs": []
    },
    {
      "cell_type": "markdown",
      "source": [
        "generated_ids = model.generate(**batch): This line generates the translated output by passing the encoded input through the pre-trained machine translation model. It returns the IDs of the generated tokens."
      ],
      "metadata": {
        "id": "LHbh0tNRuoBx"
      }
    },
    {
      "cell_type": "code",
      "source": [
        "tokenizer.batch_decode(generated_ids, skip_special_tokens=True)[0]"
      ],
      "metadata": {
        "id": "eZ-VE2EVuTAw"
      },
      "execution_count": null,
      "outputs": []
    },
    {
      "cell_type": "markdown",
      "source": [
        "tokenizer.batch_decode(generated_ids, skip_special_tokens=True)[0]: This line decodes the generated token IDs back into human-readable text using the loaded tokenizer. It skips special tokens added during encoding and retrieves only the actual translated text."
      ],
      "metadata": {
        "id": "ZvzCPc98upxK"
      }
    },
    {
      "cell_type": "markdown",
      "source": [
        "That's it! With just a few lines of code, we have performed machine translation using Hugging Face's Transformers library and SacreMoses. You can experiment with different source and target languages, or even train your own custom machine translation model using the same workflow."
      ],
      "metadata": {
        "id": "WEpp-n8OurZM"
      }
    }
  ]
}